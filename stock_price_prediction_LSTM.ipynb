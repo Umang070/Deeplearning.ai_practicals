{
 "cells": [
  {
   "cell_type": "code",
   "execution_count": 0,
   "metadata": {
    "colab": {},
    "colab_type": "code",
    "id": "gyGS6q_gbgik"
   },
   "outputs": [],
   "source": [
    "#Artificial Neural Network called LSTM(Long Short Term Memory) to predict the closing stock price of corporation using the past 60 day stock price"
   ]
  },
  {
   "cell_type": "code",
   "execution_count": 4,
   "metadata": {
    "colab": {
     "base_uri": "https://localhost:8080/",
     "height": 90
    },
    "colab_type": "code",
    "id": "4SCwYf6YcZZ1",
    "outputId": "e4e5ab7d-9540-4d22-a670-6217eb939a87"
   },
   "outputs": [
    {
     "name": "stderr",
     "output_type": "stream",
     "text": [
      "/usr/local/lib/python3.6/dist-packages/pandas_datareader/compat/__init__.py:7: FutureWarning: pandas.util.testing is deprecated. Use the functions in the public API at pandas.testing instead.\n",
      "  from pandas.util.testing import assert_frame_equal\n",
      "Using TensorFlow backend.\n"
     ]
    }
   ],
   "source": [
    "import math\n",
    "import pandas_datareader as web\n",
    "import numpy as np\n",
    "import pandas as pd\n",
    "from sklearn.preprocessing import MinMaxScaler\n",
    "from keras.models import Sequential\n",
    "from keras.layers import Dense,LSTM\n",
    "import matplotlib.pyplot as plt\n",
    "plt.style.use('fivethirtyeight')\n"
   ]
  },
  {
   "cell_type": "code",
   "execution_count": 5,
   "metadata": {
    "colab": {
     "base_uri": "https://localhost:8080/",
     "height": 431
    },
    "colab_type": "code",
    "id": "jO4ZAXJNdSzu",
    "outputId": "07d87366-d97b-4862-ca2e-2bc6a4f0091f"
   },
   "outputs": [
    {
     "data": {
      "text/html": [
       "<div>\n",
       "<style scoped>\n",
       "    .dataframe tbody tr th:only-of-type {\n",
       "        vertical-align: middle;\n",
       "    }\n",
       "\n",
       "    .dataframe tbody tr th {\n",
       "        vertical-align: top;\n",
       "    }\n",
       "\n",
       "    .dataframe thead th {\n",
       "        text-align: right;\n",
       "    }\n",
       "</style>\n",
       "<table border=\"1\" class=\"dataframe\">\n",
       "  <thead>\n",
       "    <tr style=\"text-align: right;\">\n",
       "      <th></th>\n",
       "      <th>High</th>\n",
       "      <th>Low</th>\n",
       "      <th>Open</th>\n",
       "      <th>Close</th>\n",
       "      <th>Volume</th>\n",
       "      <th>Adj Close</th>\n",
       "    </tr>\n",
       "    <tr>\n",
       "      <th>Date</th>\n",
       "      <th></th>\n",
       "      <th></th>\n",
       "      <th></th>\n",
       "      <th></th>\n",
       "      <th></th>\n",
       "      <th></th>\n",
       "    </tr>\n",
       "  </thead>\n",
       "  <tbody>\n",
       "    <tr>\n",
       "      <th>2012-01-03</th>\n",
       "      <td>58.928570</td>\n",
       "      <td>58.428570</td>\n",
       "      <td>58.485714</td>\n",
       "      <td>58.747143</td>\n",
       "      <td>75555200.0</td>\n",
       "      <td>50.994907</td>\n",
       "    </tr>\n",
       "    <tr>\n",
       "      <th>2012-01-04</th>\n",
       "      <td>59.240002</td>\n",
       "      <td>58.468571</td>\n",
       "      <td>58.571430</td>\n",
       "      <td>59.062859</td>\n",
       "      <td>65005500.0</td>\n",
       "      <td>51.268970</td>\n",
       "    </tr>\n",
       "    <tr>\n",
       "      <th>2012-01-05</th>\n",
       "      <td>59.792858</td>\n",
       "      <td>58.952858</td>\n",
       "      <td>59.278572</td>\n",
       "      <td>59.718571</td>\n",
       "      <td>67817400.0</td>\n",
       "      <td>51.838169</td>\n",
       "    </tr>\n",
       "    <tr>\n",
       "      <th>2012-01-06</th>\n",
       "      <td>60.392857</td>\n",
       "      <td>59.888573</td>\n",
       "      <td>59.967144</td>\n",
       "      <td>60.342857</td>\n",
       "      <td>79573200.0</td>\n",
       "      <td>52.380054</td>\n",
       "    </tr>\n",
       "    <tr>\n",
       "      <th>2012-01-09</th>\n",
       "      <td>61.107143</td>\n",
       "      <td>60.192856</td>\n",
       "      <td>60.785713</td>\n",
       "      <td>60.247143</td>\n",
       "      <td>98506100.0</td>\n",
       "      <td>52.296970</td>\n",
       "    </tr>\n",
       "    <tr>\n",
       "      <th>...</th>\n",
       "      <td>...</td>\n",
       "      <td>...</td>\n",
       "      <td>...</td>\n",
       "      <td>...</td>\n",
       "      <td>...</td>\n",
       "      <td>...</td>\n",
       "    </tr>\n",
       "    <tr>\n",
       "      <th>2019-12-11</th>\n",
       "      <td>271.100006</td>\n",
       "      <td>268.500000</td>\n",
       "      <td>268.809998</td>\n",
       "      <td>270.769989</td>\n",
       "      <td>19689200.0</td>\n",
       "      <td>270.128906</td>\n",
       "    </tr>\n",
       "    <tr>\n",
       "      <th>2019-12-12</th>\n",
       "      <td>272.559998</td>\n",
       "      <td>267.320007</td>\n",
       "      <td>267.779999</td>\n",
       "      <td>271.459991</td>\n",
       "      <td>34327600.0</td>\n",
       "      <td>270.817261</td>\n",
       "    </tr>\n",
       "    <tr>\n",
       "      <th>2019-12-13</th>\n",
       "      <td>275.299988</td>\n",
       "      <td>270.929993</td>\n",
       "      <td>271.459991</td>\n",
       "      <td>275.149994</td>\n",
       "      <td>33396900.0</td>\n",
       "      <td>274.498535</td>\n",
       "    </tr>\n",
       "    <tr>\n",
       "      <th>2019-12-16</th>\n",
       "      <td>280.790009</td>\n",
       "      <td>276.980011</td>\n",
       "      <td>277.000000</td>\n",
       "      <td>279.859985</td>\n",
       "      <td>32046500.0</td>\n",
       "      <td>279.197357</td>\n",
       "    </tr>\n",
       "    <tr>\n",
       "      <th>2019-12-17</th>\n",
       "      <td>281.769989</td>\n",
       "      <td>278.799988</td>\n",
       "      <td>279.570007</td>\n",
       "      <td>280.410004</td>\n",
       "      <td>28539600.0</td>\n",
       "      <td>279.746094</td>\n",
       "    </tr>\n",
       "  </tbody>\n",
       "</table>\n",
       "<p>2003 rows × 6 columns</p>\n",
       "</div>"
      ],
      "text/plain": [
       "                  High         Low  ...      Volume   Adj Close\n",
       "Date                                ...                        \n",
       "2012-01-03   58.928570   58.428570  ...  75555200.0   50.994907\n",
       "2012-01-04   59.240002   58.468571  ...  65005500.0   51.268970\n",
       "2012-01-05   59.792858   58.952858  ...  67817400.0   51.838169\n",
       "2012-01-06   60.392857   59.888573  ...  79573200.0   52.380054\n",
       "2012-01-09   61.107143   60.192856  ...  98506100.0   52.296970\n",
       "...                ...         ...  ...         ...         ...\n",
       "2019-12-11  271.100006  268.500000  ...  19689200.0  270.128906\n",
       "2019-12-12  272.559998  267.320007  ...  34327600.0  270.817261\n",
       "2019-12-13  275.299988  270.929993  ...  33396900.0  274.498535\n",
       "2019-12-16  280.790009  276.980011  ...  32046500.0  279.197357\n",
       "2019-12-17  281.769989  278.799988  ...  28539600.0  279.746094\n",
       "\n",
       "[2003 rows x 6 columns]"
      ]
     },
     "execution_count": 5,
     "metadata": {
      "tags": []
     },
     "output_type": "execute_result"
    }
   ],
   "source": [
    "#Get Stock\n",
    "\n",
    "df = web.DataReader('AAPL', data_source='yahoo', start='2012-01-01', end='2019-12-17')\n",
    "df"
   ]
  },
  {
   "cell_type": "code",
   "execution_count": 6,
   "metadata": {
    "colab": {
     "base_uri": "https://localhost:8080/",
     "height": 500
    },
    "colab_type": "code",
    "id": "o6wL9f5Pd6mf",
    "outputId": "45d0f468-9d68-4730-dc6a-72c0a07e061d"
   },
   "outputs": [
    {
     "data": {
      "image/png": "[encoded data removed]",
      "text/plain": [
       "<Figure size 1224x504 with 1 Axes>"
      ]
     },
     "metadata": {
      "tags": []
     },
     "output_type": "display_data"
    }
   ],
   "source": [
    "plt.figure(figsize=(17,7))\n",
    "plt.plot(df['Close'])\n",
    "plt.title('Close Price')\n",
    "plt.xlabel('Date', fontsize=18)\n",
    "plt.ylabel('Close Price in USD($)', fontsize=18)\n",
    "\n",
    "plt.show()\n"
   ]
  },
  {
   "cell_type": "code",
   "execution_count": 7,
   "metadata": {
    "colab": {
     "base_uri": "https://localhost:8080/",
     "height": 34
    },
    "colab_type": "code",
    "id": "cN81Fhnde0yl",
    "outputId": "62f7e8df-a106-428e-ca53-1cdbb33a39a3"
   },
   "outputs": [
    {
     "data": {
      "text/plain": [
       "1603"
      ]
     },
     "execution_count": 7,
     "metadata": {
      "tags": []
     },
     "output_type": "execute_result"
    }
   ],
   "source": [
    "#new df with only close col\n",
    "\n",
    "data = df.filter(['Close'])\n",
    "dataset = data.values\n",
    "training_data_len = math.ceil(len(dataset)*0.8) #80% data use as train\n",
    "\n",
    "training_data_len\n",
    "# dataset.shape\n",
    "# data.shape"
   ]
  },
  {
   "cell_type": "code",
   "execution_count": 8,
   "metadata": {
    "colab": {
     "base_uri": "https://localhost:8080/",
     "height": 158
    },
    "colab_type": "code",
    "id": "uLyInT9apqRz",
    "outputId": "7c6c0f7c-7a39-431c-d87b-a3138b16e338"
   },
   "outputs": [
    {
     "name": "stdout",
     "output_type": "stream",
     "text": [
      "MinMaxScaler(copy=True, feature_range=(0, 1))\n"
     ]
    },
    {
     "data": {
      "text/plain": [
       "array([[0.01316509],\n",
       "       [0.01457064],\n",
       "       [0.01748985],\n",
       "       ...,\n",
       "       [0.97658263],\n",
       "       [0.99755134],\n",
       "       [1.        ]])"
      ]
     },
     "execution_count": 8,
     "metadata": {
      "tags": []
     },
     "output_type": "execute_result"
    }
   ],
   "source": [
    "#scale the data \n",
    "scaler = MinMaxScaler(feature_range=(0,1))\n",
    "print(scaler)\n",
    "scaled_data = scaler.fit_transform(dataset)\n",
    "scaled_data"
   ]
  },
  {
   "cell_type": "code",
   "execution_count": 12,
   "metadata": {
    "colab": {
     "base_uri": "https://localhost:8080/",
     "height": 703
    },
    "colab_type": "code",
    "id": "4VJ-fGq1rrPY",
    "outputId": "d821f50e-7757-4265-a27b-5c68b2fc3ee2"
   },
   "outputs": [
    {
     "name": "stdout",
     "output_type": "stream",
     "text": [
      "[array([0.01316509, 0.01457064, 0.01748985, 0.02026915, 0.01984303,\n",
      "       0.02080338, 0.02036454, 0.01962679, 0.01862193, 0.02173194,\n",
      "       0.02453668, 0.02367172, 0.01893356, 0.02345548, 0.01900352,\n",
      "       0.03569838, 0.03440731, 0.0360927 , 0.03973694, 0.04194384,\n",
      "       0.0417594 , 0.0410789 , 0.04397903, 0.04670744, 0.04979839,\n",
      "       0.05479095, 0.0652785 , 0.06543749, 0.07127594, 0.07563885,\n",
      "       0.06814046, 0.07102789, 0.07097066, 0.07906688, 0.07791571,\n",
      "       0.08004628, 0.08387497, 0.08600558, 0.09214292, 0.09661397,\n",
      "       0.09790501, 0.09835659, 0.09071194, 0.08886753, 0.08914103,\n",
      "       0.09632775, 0.09835024, 0.10269405, 0.11293358, 0.12659476,\n",
      "       0.12403805, 0.1240444 , 0.13392141, 0.13701233, 0.13481179,\n",
      "       0.13280207, 0.13070964, 0.13766105, 0.14243103, 0.14442805])]\n",
      "[0.13949272033425864]\n",
      "\n",
      "[array([0.01316509, 0.01457064, 0.01748985, 0.02026915, 0.01984303,\n",
      "       0.02080338, 0.02036454, 0.01962679, 0.01862193, 0.02173194,\n",
      "       0.02453668, 0.02367172, 0.01893356, 0.02345548, 0.01900352,\n",
      "       0.03569838, 0.03440731, 0.0360927 , 0.03973694, 0.04194384,\n",
      "       0.0417594 , 0.0410789 , 0.04397903, 0.04670744, 0.04979839,\n",
      "       0.05479095, 0.0652785 , 0.06543749, 0.07127594, 0.07563885,\n",
      "       0.06814046, 0.07102789, 0.07097066, 0.07906688, 0.07791571,\n",
      "       0.08004628, 0.08387497, 0.08600558, 0.09214292, 0.09661397,\n",
      "       0.09790501, 0.09835659, 0.09071194, 0.08886753, 0.08914103,\n",
      "       0.09632775, 0.09835024, 0.10269405, 0.11293358, 0.12659476,\n",
      "       0.12403805, 0.1240444 , 0.13392141, 0.13701233, 0.13481179,\n",
      "       0.13280207, 0.13070964, 0.13766105, 0.14243103, 0.14442805]), array([0.01457064, 0.01748985, 0.02026915, 0.01984303, 0.02080338,\n",
      "       0.02036454, 0.01962679, 0.01862193, 0.02173194, 0.02453668,\n",
      "       0.02367172, 0.01893356, 0.02345548, 0.01900352, 0.03569838,\n",
      "       0.03440731, 0.0360927 , 0.03973694, 0.04194384, 0.0417594 ,\n",
      "       0.0410789 , 0.04397903, 0.04670744, 0.04979839, 0.05479095,\n",
      "       0.0652785 , 0.06543749, 0.07127594, 0.07563885, 0.06814046,\n",
      "       0.07102789, 0.07097066, 0.07906688, 0.07791571, 0.08004628,\n",
      "       0.08387497, 0.08600558, 0.09214292, 0.09661397, 0.09790501,\n",
      "       0.09835659, 0.09071194, 0.08886753, 0.08914103, 0.09632775,\n",
      "       0.09835024, 0.10269405, 0.11293358, 0.12659476, 0.12403805,\n",
      "       0.1240444 , 0.13392141, 0.13701233, 0.13481179, 0.13280207,\n",
      "       0.13070964, 0.13766105, 0.14243103, 0.14442805, 0.13949272])]\n",
      "[0.13949272033425864, 0.13293562570222134]\n",
      "\n"
     ]
    }
   ],
   "source": [
    "#create the scaled training data\n",
    "\n",
    "train_data = scaled_data[0:training_data_len,:]\n",
    "X_train = []\n",
    "y_train = []\n",
    "\n",
    "for i in range(60,len(train_data)):\n",
    "    X_train.append(train_data[i-60:i,0])\n",
    "    y_train.append(train_data[i,0])\n",
    "    if i<= 61:\n",
    "      print(X_train)    #first 0 to 59 and 1 to 60\n",
    "      print(y_train)    #60 and 61\n",
    "      print()\n",
    "\n"
   ]
  },
  {
   "cell_type": "code",
   "execution_count": 33,
   "metadata": {
    "colab": {
     "base_uri": "https://localhost:8080/",
     "height": 52
    },
    "colab_type": "code",
    "id": "VXtGaUelA1h-",
    "outputId": "3ce5235b-15f5-4b3b-e23b-93c0e72c0a12"
   },
   "outputs": [
    {
     "name": "stdout",
     "output_type": "stream",
     "text": [
      "<class 'numpy.ndarray'>\n"
     ]
    },
    {
     "data": {
      "text/plain": [
       "(1543,)"
      ]
     },
     "execution_count": 33,
     "metadata": {
      "tags": []
     },
     "output_type": "execute_result"
    }
   ],
   "source": [
    "#Convet into numpy array\n",
    "print(type(X_train))\n",
    "X_train, y_train = np.array(X_train), np.array(y_train)\n",
    "type(X_train)\n",
    "y_train.shape\n",
    "\n"
   ]
  },
  {
   "cell_type": "code",
   "execution_count": 26,
   "metadata": {
    "colab": {
     "base_uri": "https://localhost:8080/",
     "height": 34
    },
    "colab_type": "code",
    "id": "p8O4e4qKCZ9N",
    "outputId": "59987756-7656-4bcd-affd-82fb27ff6a36"
   },
   "outputs": [
    {
     "data": {
      "text/plain": [
       "(1543, 60, 1)"
      ]
     },
     "execution_count": 26,
     "metadata": {
      "tags": []
     },
     "output_type": "execute_result"
    }
   ],
   "source": [
    "#reshape the data \n",
    "\n",
    "X_train = np.reshape(X_train, (X_train.shape[0], X_train.shape[1], 1))\n",
    "X_train.shape\n"
   ]
  },
  {
   "cell_type": "code",
   "execution_count": 0,
   "metadata": {
    "colab": {},
    "colab_type": "code",
    "id": "QoI7FtxtDYRo"
   },
   "outputs": [],
   "source": [
    "#Build the LSTM model\n",
    "\n",
    "model = Sequential()\n",
    "model.add(LSTM(50, return_sequences=True, input_shape=(X_train.shape[1],1)))   #50 nueron\n",
    "model.add(LSTM(50, return_sequences=False))\n",
    "model.add(Dense(25))\n",
    "model.add(Dense(1))"
   ]
  },
  {
   "cell_type": "code",
   "execution_count": 0,
   "metadata": {
    "colab": {},
    "colab_type": "code",
    "id": "vHb3ixZzFQYs"
   },
   "outputs": [],
   "source": [
    "#Compile\n",
    "\n",
    "model.compile(optimizer='adam', loss='mean_squared_error')"
   ]
  },
  {
   "cell_type": "code",
   "execution_count": 32,
   "metadata": {
    "colab": {
     "base_uri": "https://localhost:8080/",
     "height": 70
    },
    "colab_type": "code",
    "id": "cx0JIYaXGXmm",
    "outputId": "9c1c236b-ce0b-4cb5-b36f-15cf99314e45"
   },
   "outputs": [
    {
     "name": "stdout",
     "output_type": "stream",
     "text": [
      "Epoch 1/1\n",
      "1543/1543 [==============================] - 557s 361ms/step - loss: 8.6333e-04\n"
     ]
    },
    {
     "data": {
      "text/plain": [
       "<keras.callbacks.callbacks.History at 0x7f9ba56f6a58>"
      ]
     },
     "execution_count": 32,
     "metadata": {
      "tags": []
     },
     "output_type": "execute_result"
    }
   ],
   "source": [
    "#train\n",
    "\n",
    "model.fit(X_train, y_train, batch_size=1, epochs=1)"
   ]
  },
  {
   "cell_type": "code",
   "execution_count": 0,
   "metadata": {
    "colab": {},
    "colab_type": "code",
    "id": "A6MprlASHSTj"
   },
   "outputs": [],
   "source": [
    "#Create a testing data set\n",
    "#Create a new array containg scaled val from 1543 to 2003 (remaining data after train)\n",
    "\n",
    "test_data = scaled_data[training_data_len-60:,:]   #we start train_loop from 60  some confusion\n",
    "\n",
    "X_test = []\n",
    "y_test = dataset[training_data_len:, :]\n",
    "\n",
    "for i in range(60, len(test_data)):\n",
    "    X_test.append(test_data[i-60:i,0])\n"
   ]
  },
  {
   "cell_type": "code",
   "execution_count": 0,
   "metadata": {
    "colab": {},
    "colab_type": "code",
    "id": "spzKxPRPL7t2"
   },
   "outputs": [],
   "source": [
    "#convert data into numpy array\n",
    "\n",
    "X_test = np.array(X_test)\n"
   ]
  },
  {
   "cell_type": "code",
   "execution_count": 0,
   "metadata": {
    "colab": {},
    "colab_type": "code",
    "id": "uN7V8QJ7MU_D"
   },
   "outputs": [],
   "source": [
    "X_test = np.reshape(X_test,(X_test.shape[0],X_test.shape[1],1))"
   ]
  },
  {
   "cell_type": "code",
   "execution_count": 0,
   "metadata": {
    "colab": {},
    "colab_type": "code",
    "id": "WsAMsvh6NAYQ"
   },
   "outputs": [],
   "source": [
    "y_pred = model.predict(X_test)\n",
    "y_pred = scaler.inverse_transform(y_pred)   #we are doing unscaling because we want original value for comparison\n"
   ]
  },
  {
   "cell_type": "code",
   "execution_count": 43,
   "metadata": {
    "colab": {
     "base_uri": "https://localhost:8080/",
     "height": 34
    },
    "colab_type": "code",
    "id": "o9XdFGhaN4V3",
    "outputId": "71b0606d-0df0-4ec8-b3b8-9e73a208ab24"
   },
   "outputs": [
    {
     "data": {
      "text/plain": [
       "11.6624271774292"
      ]
     },
     "execution_count": 43,
     "metadata": {
      "tags": []
     },
     "output_type": "execute_result"
    }
   ],
   "source": [
    "# RMSE---root mean squared error\n",
    "\n",
    "rmse = np.sqrt(np.mean(y_pred - y_test)**2)\n",
    "rmse"
   ]
  },
  {
   "cell_type": "code",
   "execution_count": 46,
   "metadata": {
    "colab": {
     "base_uri": "https://localhost:8080/",
     "height": 729
    },
    "colab_type": "code",
    "id": "VRAfYkDTOPQY",
    "outputId": "3d0c4618-0bc0-4cd9-b3a0-ed1ed4e7ffd7"
   },
   "outputs": [
    {
     "name": "stdout",
     "output_type": "stream",
     "text": [
      "                Close\n",
      "Date                 \n",
      "2012-01-03  58.747143\n",
      "2012-01-04  59.062859\n",
      "2012-01-05  59.718571\n",
      "2012-01-06  60.342857\n",
      "2012-01-09  60.247143\n"
     ]
    },
    {
     "name": "stderr",
     "output_type": "stream",
     "text": [
      "/usr/local/lib/python3.6/dist-packages/ipykernel_launcher.py:4: SettingWithCopyWarning: \n",
      "A value is trying to be set on a copy of a slice from a DataFrame.\n",
      "Try using .loc[row_indexer,col_indexer] = value instead\n",
      "\n",
      "See the caveats in the documentation: https://pandas.pydata.org/pandas-docs/stable/user_guide/indexing.html#returning-a-view-versus-a-copy\n",
      "  after removing the cwd from sys.path.\n"
     ]
    },
    {
     "data": {
      "image/png": "[encoded data removed]",
      "text/plain": [
       "<Figure size 1224x504 with 1 Axes>"
      ]
     },
     "metadata": {
      "tags": []
     },
     "output_type": "display_data"
    }
   ],
   "source": [
    "#plot\n",
    "train = data[:training_data_len]\n",
    "valid = data[training_data_len:]\n",
    "# print(train.head())\n",
    "valid['Y_pred'] = y_pred   # create like new col means actual price and pred price\n",
    "plt.figure(figsize=(17,7))\n",
    "plt.title('Close Price')\n",
    "plt.xlabel('Date', fontsize=18)\n",
    "plt.ylabel('Close Price in USD($)', fontsize=18)\n",
    "plt.plot(train['Close'])\n",
    "plt.plot(valid[['Close','Y_pred']])\n",
    "plt.legend(['Train', 'Test', 'Prediction'])\n",
    "plt.show()\n",
    "\n"
   ]
  },
  {
   "cell_type": "code",
   "execution_count": 45,
   "metadata": {
    "colab": {
     "base_uri": "https://localhost:8080/",
     "height": 431
    },
    "colab_type": "code",
    "id": "vBuBhA-NQfH7",
    "outputId": "0cb894b0-ce19-4e43-aded-0e9f06ee39b0"
   },
   "outputs": [
    {
     "data": {
      "text/html": [
       "<div>\n",
       "<style scoped>\n",
       "    .dataframe tbody tr th:only-of-type {\n",
       "        vertical-align: middle;\n",
       "    }\n",
       "\n",
       "    .dataframe tbody tr th {\n",
       "        vertical-align: top;\n",
       "    }\n",
       "\n",
       "    .dataframe thead th {\n",
       "        text-align: right;\n",
       "    }\n",
       "</style>\n",
       "<table border=\"1\" class=\"dataframe\">\n",
       "  <thead>\n",
       "    <tr style=\"text-align: right;\">\n",
       "      <th></th>\n",
       "      <th>Close</th>\n",
       "      <th>Y_pred</th>\n",
       "    </tr>\n",
       "    <tr>\n",
       "      <th>Date</th>\n",
       "      <th></th>\n",
       "      <th></th>\n",
       "    </tr>\n",
       "  </thead>\n",
       "  <tbody>\n",
       "    <tr>\n",
       "      <th>2018-05-17</th>\n",
       "      <td>186.990005</td>\n",
       "      <td>178.530014</td>\n",
       "    </tr>\n",
       "    <tr>\n",
       "      <th>2018-05-18</th>\n",
       "      <td>186.309998</td>\n",
       "      <td>178.879669</td>\n",
       "    </tr>\n",
       "    <tr>\n",
       "      <th>2018-05-21</th>\n",
       "      <td>187.630005</td>\n",
       "      <td>178.938156</td>\n",
       "    </tr>\n",
       "    <tr>\n",
       "      <th>2018-05-22</th>\n",
       "      <td>187.160004</td>\n",
       "      <td>178.944427</td>\n",
       "    </tr>\n",
       "    <tr>\n",
       "      <th>2018-05-23</th>\n",
       "      <td>188.360001</td>\n",
       "      <td>178.871201</td>\n",
       "    </tr>\n",
       "    <tr>\n",
       "      <th>...</th>\n",
       "      <td>...</td>\n",
       "      <td>...</td>\n",
       "    </tr>\n",
       "    <tr>\n",
       "      <th>2019-12-11</th>\n",
       "      <td>270.769989</td>\n",
       "      <td>246.773056</td>\n",
       "    </tr>\n",
       "    <tr>\n",
       "      <th>2019-12-12</th>\n",
       "      <td>271.459991</td>\n",
       "      <td>247.523712</td>\n",
       "    </tr>\n",
       "    <tr>\n",
       "      <th>2019-12-13</th>\n",
       "      <td>275.149994</td>\n",
       "      <td>248.359070</td>\n",
       "    </tr>\n",
       "    <tr>\n",
       "      <th>2019-12-16</th>\n",
       "      <td>279.859985</td>\n",
       "      <td>249.488434</td>\n",
       "    </tr>\n",
       "    <tr>\n",
       "      <th>2019-12-17</th>\n",
       "      <td>280.410004</td>\n",
       "      <td>251.077942</td>\n",
       "    </tr>\n",
       "  </tbody>\n",
       "</table>\n",
       "<p>400 rows × 2 columns</p>\n",
       "</div>"
      ],
      "text/plain": [
       "                 Close      Y_pred\n",
       "Date                              \n",
       "2018-05-17  186.990005  178.530014\n",
       "2018-05-18  186.309998  178.879669\n",
       "2018-05-21  187.630005  178.938156\n",
       "2018-05-22  187.160004  178.944427\n",
       "2018-05-23  188.360001  178.871201\n",
       "...                ...         ...\n",
       "2019-12-11  270.769989  246.773056\n",
       "2019-12-12  271.459991  247.523712\n",
       "2019-12-13  275.149994  248.359070\n",
       "2019-12-16  279.859985  249.488434\n",
       "2019-12-17  280.410004  251.077942\n",
       "\n",
       "[400 rows x 2 columns]"
      ]
     },
     "execution_count": 45,
     "metadata": {
      "tags": []
     },
     "output_type": "execute_result"
    }
   ],
   "source": [
    "valid"
   ]
  },
  {
   "cell_type": "code",
   "execution_count": 54,
   "metadata": {
    "colab": {
     "base_uri": "https://localhost:8080/",
     "height": 70
    },
    "colab_type": "code",
    "id": "WwAHLSURRCpq",
    "outputId": "685cf864-a38d-41a6-f670-edf2062b99f1"
   },
   "outputs": [
    {
     "name": "stdout",
     "output_type": "stream",
     "text": [
      "(1, 60, 1)\n",
      "[[0.87703633]]\n",
      "[[252.78992]]\n"
     ]
    }
   ],
   "source": [
    "apple_quote = web.DataReader('AAPL', data_source='yahoo', start=\"2012-01-01\", end=\"2019-12-17\")\n",
    "\n",
    "new_df = apple_quote.filter(['Close'])\n",
    "\n",
    "last_60_days = new_df[-60:].values\n",
    "\n",
    "#scaled data \n",
    "\n",
    "last_60_days_scaled = scaler.transform(last_60_days)\n",
    "\n",
    "X_test = []\n",
    "\n",
    "X_test.append(last_60_days_scaled)\n",
    "#numpy array\n",
    "X_test = np.array(X_test)\n",
    "#reshape\n",
    "print(X_test.shape)\n",
    "X_test = np.reshape(X_test,(X_test.shape[0],X_test.shape[1],1))\n",
    "#get pred scaled price\n",
    "# print(X_test)\n",
    "pred_price = model.predict(X_test)\n",
    "print(pred_price)    #our pred price according to last 60 days\n",
    "#undo scaling\n",
    "\n",
    "pred_price = scaler.inverse_transform(pred_price)\n",
    "print(pred_price)             #for dec 18th 2019\n"
   ]
  },
  {
   "cell_type": "code",
   "execution_count": 50,
   "metadata": {
    "colab": {
     "base_uri": "https://localhost:8080/",
     "height": 70
    },
    "colab_type": "code",
    "id": "Loc4k9Y6T2Gd",
    "outputId": "fa091a64-7c8c-4fc3-f77c-f46ef8545c1d"
   },
   "outputs": [
    {
     "name": "stdout",
     "output_type": "stream",
     "text": [
      "Date\n",
      "2019-12-18    279.73999\n",
      "Name: Close, dtype: float64\n"
     ]
    }
   ],
   "source": [
    "apple_quote_2 = web.DataReader('AAPL', data_source='yahoo', start=\"2019-12-18\", end=\"2019-12-18\")\n",
    "print(apple_quote_2['Close'])"
   ]
  },
  {
   "cell_type": "code",
   "execution_count": 1,
   "metadata": {
    "colab": {},
    "colab_type": "code",
    "id": "8v0FCnNjUzF9"
   },
   "outputs": [],
   "source": []
  },
  {
   "cell_type": "code",
   "execution_count": 2,
   "metadata": {},
   "outputs": [
    {
     "data": {
      "text/plain": [
       "array([[1, 9, 4, 6, 8],\n",
       "       [7, 4, 4, 2, 1]])"
      ]
     },
     "execution_count": 2,
     "metadata": {},
     "output_type": "execute_result"
    }
   ],
   "source": []
  },
  {
   "cell_type": "code",
   "execution_count": 7,
   "metadata": {},
   "outputs": [
    {
     "data": {
      "text/plain": [
       "array([[1, 9],\n",
       "       [4, 6],\n",
       "       [8, 7],\n",
       "       [4, 4],\n",
       "       [2, 1]])"
      ]
     },
     "execution_count": 7,
     "metadata": {},
     "output_type": "execute_result"
    }
   ],
   "source": []
  },
  {
   "cell_type": "code",
   "execution_count": null,
   "metadata": {},
   "outputs": [],
   "source": []
  }
 ],
 "metadata": {
  "accelerator": "GPU",
  "colab": {
   "collapsed_sections": [],
   "name": "stock_price.ipynb",
   "provenance": []
  },
  "kernelspec": {
   "display_name": "Python 3",
   "language": "python",
   "name": "python3"
  },
  "language_info": {
   "codemirror_mode": {
    "name": "ipython",
    "version": 3
   },
   "file_extension": ".py",
   "mimetype": "text/x-python",
   "name": "python",
   "nbconvert_exporter": "python",
   "pygments_lexer": "ipython3",
   "version": "3.7.6"
  }
 },
 "nbformat": 4,
 "nbformat_minor": 1
}
